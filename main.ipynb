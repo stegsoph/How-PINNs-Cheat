{
 "cells": [
  {
   "cell_type": "markdown",
   "metadata": {},
   "source": [
    "# Notebook for training a PINN to simulate the double pendulum"
   ]
  },
  {
   "cell_type": "markdown",
   "id": "ff91f3a5",
   "metadata": {},
   "source": [
    "### Load all libraries and modules"
   ]
  },
  {
   "cell_type": "code",
   "execution_count": null,
   "metadata": {
    "colab": {
     "base_uri": "https://localhost:8080/",
     "height": 729
    },
    "executionInfo": {
     "elapsed": 6654,
     "status": "ok",
     "timestamp": 1647974309482,
     "user": {
      "displayName": "Sophie Steger",
      "photoUrl": "https://lh3.googleusercontent.com/a-/AOh14GgpJPsAOdEWcMf9UoViVqmW1-p2JDg3gfY8R2Nc0ps=s64",
      "userId": "14852726812345573199"
     },
     "user_tz": -60
    },
    "id": "MC8ZcL9De3Wb",
    "outputId": "501d3726-3bd5-4660-ed4b-0823f0bd440a"
   },
   "outputs": [],
   "source": [
    "%load_ext autoreload\n",
    "%autoreload 2\n",
    "\n",
    "import numpy as np\n",
    "import matplotlib.pyplot as plt\n",
    "from pathlib import Path\n",
    "import json\n",
    "import sys\n",
    "import time\n",
    "import itertools\n",
    "\n",
    "import yaml\n",
    "from configs.config_loader import load_config\n",
    "from utils.plotting import Plotting, get_optimal_figsize, legend_without_duplicate_labels, init_plot_style\n",
    "\n",
    "init_plot_style(use_tex=False)"
   ]
  },
  {
   "cell_type": "markdown",
   "metadata": {},
   "source": [
    "# Standard PINN"
   ]
  },
  {
   "cell_type": "markdown",
   "metadata": {
    "id": "KpyKV8s3hEWl"
   },
   "source": [
    "#### Define configuration for simulation"
   ]
  },
  {
   "cell_type": "code",
   "execution_count": null,
   "metadata": {
    "colab": {
     "base_uri": "https://localhost:8080/"
    },
    "executionInfo": {
     "elapsed": 249,
     "status": "ok",
     "timestamp": 1647982198505,
     "user": {
      "displayName": "Sophie Steger",
      "photoUrl": "https://lh3.googleusercontent.com/a-/AOh14GgpJPsAOdEWcMf9UoViVqmW1-p2JDg3gfY8R2Nc0ps=s64",
      "userId": "14852726812345573199"
     },
     "user_tz": -60
    },
    "id": "uTtAGIdye-Ak",
    "outputId": "d9f2831f-7c00-4e3d-dadd-7ac73ea6dbda"
   },
   "outputs": [],
   "source": [
    "# Initial condition\n",
    "theta = 150*np.pi/180\n",
    "y0 = [theta, theta, 0, 0] \n",
    "\n",
    "# Adapt config file\n",
    "config_dict = { # Save results as json file\n",
    "                'save_data': False,\n",
    "                'log_name': ['default', 'weighted'], \n",
    "                'log_order': ['y0', 't', 'layers', 'epochs', 'loss'],\n",
    "  \n",
    "                # Initial condition, computational domain\n",
    "                'y0': y0,\n",
    "                'x_domain': [0,5],\n",
    "\n",
    "                # Random seeds\n",
    "                'seed_pinn': 6,\n",
    "\n",
    "                # Loss weighting scheme\n",
    "                'lambda_IC': 100,\n",
    "\n",
    "                # Training parameters\n",
    "                'n_epochs': 2000,\n",
    "\n",
    "              }\n",
    "\n",
    "config = load_config(Path('', 'configs', 'default.yaml'),\n",
    "                     config_update = config_dict,\n",
    "                     verbose = True) \n",
    "\n",
    "from pinn.neural_net import PhysicsInformedNN"
   ]
  },
  {
   "cell_type": "markdown",
   "metadata": {
    "id": "GCuMsAbdg-Kw"
   },
   "source": [
    "#### PINN training "
   ]
  },
  {
   "cell_type": "code",
   "execution_count": null,
   "metadata": {
    "colab": {
     "base_uri": "https://localhost:8080/"
    },
    "executionInfo": {
     "elapsed": 209787,
     "status": "ok",
     "timestamp": 1647982409042,
     "user": {
      "displayName": "Sophie Steger",
      "photoUrl": "https://lh3.googleusercontent.com/a-/AOh14GgpJPsAOdEWcMf9UoViVqmW1-p2JDg3gfY8R2Nc0ps=s64",
      "userId": "14852726812345573199"
     },
     "user_tz": -60
    },
    "id": "BJBWOjuZfiai",
    "outputId": "2a00c0a5-a18d-4645-8c34-eeb5ef163c8c"
   },
   "outputs": [],
   "source": [
    "##############################################################################\n",
    "# Start training the PINN\n",
    "##############################################################################\n",
    "\n",
    "# Create an instance of the PINN model\n",
    "pinn = PhysicsInformedNN(config, verbose=False)\n",
    "\n",
    "# Train the model instance\n",
    "pinn.train() \n",
    "\n",
    "# Return logs containing all training details and results\n",
    "log = pinn.callback.log"
   ]
  },
  {
   "cell_type": "markdown",
   "metadata": {
    "id": "6gdl6c0JS6xp"
   },
   "source": [
    "### Plotting the solution trajectories and training losses"
   ]
  },
  {
   "cell_type": "code",
   "execution_count": null,
   "metadata": {},
   "outputs": [],
   "source": [
    "# time step from where the RK solution is evaluated with the corresponding PINN prediction\n",
    "t_cont = 0\n",
    "\n",
    "#####################################################################################\n",
    "\n",
    "fig, axes = plt.subplots(1, 2, figsize=get_optimal_figsize(scale=1, height_factor=.3))\n",
    "axes = axes.flatten()\n",
    "\n",
    "Plot = Plotting(log, alpha=1)\n",
    "Plot.plotting_continuation(axes[0:],t_cont=t_cont)\n",
    "Plot.plotting_yt_sol(axes[0:])\n",
    "IC_pred = log['y_pred'][0]\n",
    "\n",
    "axes[0].set_title(r'$\\overline{{\\theta}}_1(t_0)={:.2f},\\ \\overline{{\\theta}}_2(t_0)={:.2f}$'.format(IC_pred[0],IC_pred[1]), fontsize=10)\n",
    "axes[1].set_title(r'$\\overline{{\\omega}}_1(t_0)={:.2f},\\ \\overline{{\\omega}}_2(t_0)={:.2f}$'.format(IC_pred[2],IC_pred[3]), fontsize=10)\n",
    "\n",
    "legend_without_duplicate_labels(axes[0], (-0.9, 0.5), idx = [-1, 0, 1, 2, 3, 4, 5], loc='center left');\n",
    "legend_without_duplicate_labels(axes[1], (1, 0.5), idx = [-1, 0, 1, 2, 3, 4, 5], loc='center left');\n",
    "\n"
   ]
  },
  {
   "cell_type": "code",
   "execution_count": null,
   "metadata": {},
   "outputs": [],
   "source": [
    "fig, axes = plt.subplots(1, 2, figsize=get_optimal_figsize(scale=1, height_factor=.3))\n",
    "axes = axes.flatten()\n",
    "fig.subplots_adjust(wspace=0.3)\n",
    "\n",
    "Plot = Plotting(log, alpha=1)\n",
    "Plot.plotting_losses(axes[0:])\n",
    "\n",
    "legend_without_duplicate_labels(axes[0], (-0.7, 0.5), idx = [-1, 2, 3, 4], loc='center left');\n",
    "legend_without_duplicate_labels(axes[1], (1, 0.5), idx = [2,3], loc='center left');"
   ]
  }
 ],
 "metadata": {
  "colab": {
   "collapsed_sections": [
    "sR98wjlehAt1"
   ],
   "name": "main_combined.ipynb",
   "provenance": []
  },
  "interpreter": {
   "hash": "679816e3715d1fc23b3f7ddefd297fe224581abbb4dab7cb94cec51d785998d3"
  },
  "kernelspec": {
   "display_name": "Python 3.7.11 ('PINN_v1')",
   "language": "python",
   "name": "python3"
  },
  "language_info": {
   "codemirror_mode": {
    "name": "ipython",
    "version": 3
   },
   "file_extension": ".py",
   "mimetype": "text/x-python",
   "name": "python",
   "nbconvert_exporter": "python",
   "pygments_lexer": "ipython3",
   "version": "3.7.11"
  }
 },
 "nbformat": 4,
 "nbformat_minor": 4
}
