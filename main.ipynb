{
 "cells": [
  {
   "cell_type": "code",
   "execution_count": 1,
   "metadata": {
    "colab": {
     "base_uri": "https://localhost:8080/",
     "height": 729
    },
    "executionInfo": {
     "elapsed": 6654,
     "status": "ok",
     "timestamp": 1647974309482,
     "user": {
      "displayName": "Sophie Steger",
      "photoUrl": "https://lh3.googleusercontent.com/a-/AOh14GgpJPsAOdEWcMf9UoViVqmW1-p2JDg3gfY8R2Nc0ps=s64",
      "userId": "14852726812345573199"
     },
     "user_tz": -60
    },
    "id": "MC8ZcL9De3Wb",
    "outputId": "501d3726-3bd5-4660-ed4b-0823f0bd440a"
   },
   "outputs": [],
   "source": [
    "# !pip install Ipython --upgrade\n",
    "%load_ext autoreload\n",
    "%autoreload 2\n",
    "\n",
    "import numpy as np\n",
    "import matplotlib.pyplot as plt\n",
    "from pathlib import Path\n",
    "import json\n",
    "import sys\n",
    "import time\n",
    "import itertools"
   ]
  },
  {
   "cell_type": "code",
   "execution_count": 2,
   "metadata": {
    "colab": {
     "base_uri": "https://localhost:8080/"
    },
    "executionInfo": {
     "elapsed": 915826,
     "status": "ok",
     "timestamp": 1647975225296,
     "user": {
      "displayName": "Sophie Steger",
      "photoUrl": "https://lh3.googleusercontent.com/a-/AOh14GgpJPsAOdEWcMf9UoViVqmW1-p2JDg3gfY8R2Nc0ps=s64",
      "userId": "14852726812345573199"
     },
     "user_tz": -60
    },
    "id": "MsR1Amwiep-r",
    "outputId": "bfd39d9d-4ac6-426f-df81-e490628debe4"
   },
   "outputs": [],
   "source": [
    "import yaml\n",
    "from configs.config_loader import load_config\n",
    "from utils.exact import data_config_update\n",
    "from utils.plotting import Plotting, get_optimal_figsize, legend_without_duplicate_labels"
   ]
  },
  {
   "cell_type": "markdown",
   "metadata": {},
   "source": [
    "# Standard PINN"
   ]
  },
  {
   "cell_type": "markdown",
   "metadata": {
    "id": "KpyKV8s3hEWl"
   },
   "source": [
    "#### Define configuration for simulation"
   ]
  },
  {
   "cell_type": "code",
   "execution_count": 3,
   "metadata": {
    "colab": {
     "base_uri": "https://localhost:8080/"
    },
    "executionInfo": {
     "elapsed": 249,
     "status": "ok",
     "timestamp": 1647982198505,
     "user": {
      "displayName": "Sophie Steger",
      "photoUrl": "https://lh3.googleusercontent.com/a-/AOh14GgpJPsAOdEWcMf9UoViVqmW1-p2JDg3gfY8R2Nc0ps=s64",
      "userId": "14852726812345573199"
     },
     "user_tz": -60
    },
    "id": "uTtAGIdye-Ak",
    "outputId": "d9f2831f-7c00-4e3d-dadd-7ac73ea6dbda"
   },
   "outputs": [
    {
     "name": "stdout",
     "output_type": "stream",
     "text": [
      "version : default\n",
      "directory : \n",
      "seed_data : 0\n",
      "seed_pinn : 6\n",
      "save_data : False\n",
      "x_domain : [0, 5]\n",
      "x0 : 0\n",
      "y0 : [2.6179938779914944, 2.6179938779914944, 0, 0]\n",
      "l1 : 1\n",
      "l2 : 1\n",
      "m1 : 1\n",
      "m2 : 1\n",
      "g : 9.81\n",
      "n_col : 1024\n",
      "norm_flag : True\n",
      "preprocessing_domain : [-5, 5]\n",
      "n_hidden : 6\n",
      "n_neurons : 30\n",
      "activation : swish\n",
      "n_epochs : 2000\n",
      "learning_rate : 0.01\n",
      "decay_rate : 0.9\n",
      "n_pred_log : 10\n",
      "freq_log : 10\n",
      "freq_print : 500\n",
      "keys_print : ['loss_train', 'loss_IC', 'loss_Fx1', 'loss_Fx2', 'loss_Fx3', 'loss_Fx4']\n",
      "alpha_IC : 0.99\n"
     ]
    }
   ],
   "source": [
    "# Initial condition\n",
    "theta = 150*np.pi/180\n",
    "y0 = [theta, theta, 0, 0] \n",
    "\n",
    "# Adapt config file\n",
    "config_dict = { # Save results as json file\n",
    "                'save_data': False,\n",
    "  \n",
    "                # Initial condition, computational domain\n",
    "                'y0': y0,\n",
    "                'x_domain': [0,5],\n",
    "\n",
    "                # Random seeds\n",
    "                'seed_pinn': 6,\n",
    "\n",
    "                # Loss weighting scheme\n",
    "                'alpha_IC': 0.99,\n",
    "\n",
    "                # Training parameters\n",
    "                'n_epochs': 2000,\n",
    "\n",
    "              }\n",
    "\n",
    "config = load_config(Path('', 'configs', 'default.yaml'),\n",
    "                     config_update = config_dict,\n",
    "                     verbose = True) \n",
    "\n",
    "from pinn.neural_net import PhysicsInformedNN"
   ]
  },
  {
   "cell_type": "markdown",
   "metadata": {
    "id": "GCuMsAbdg-Kw"
   },
   "source": [
    "#### PINN training "
   ]
  },
  {
   "cell_type": "code",
   "execution_count": 4,
   "metadata": {
    "colab": {
     "base_uri": "https://localhost:8080/"
    },
    "executionInfo": {
     "elapsed": 209787,
     "status": "ok",
     "timestamp": 1647982409042,
     "user": {
      "displayName": "Sophie Steger",
      "photoUrl": "https://lh3.googleusercontent.com/a-/AOh14GgpJPsAOdEWcMf9UoViVqmW1-p2JDg3gfY8R2Nc0ps=s64",
      "userId": "14852726812345573199"
     },
     "user_tz": -60
    },
    "id": "BJBWOjuZfiai",
    "outputId": "2a00c0a5-a18d-4645-8c34-eeb5ef163c8c"
   },
   "outputs": [
    {
     "name": "stdout",
     "output_type": "stream",
     "text": [
      "log_name not given\n",
      "*** PINN build & initialized ***\n",
      "Training started...\n",
      "Feature scaling performed\n",
      "Feature scaling performed\n",
      "Feature scaling performed\n",
      "Feature scaling performed\n",
      "   0/2000 | loss_train: 3.42e+00 | loss_IC: 3.45e+00 | loss_Fx1: 0.00e+00 | loss_Fx2: 0.00e+00 | loss_Fx3: 2.89e-01 | loss_Fx4: 4.94e-01\n",
      " 500/2000 | loss_train: 3.27e-02 | loss_IC: 5.16e-03 | loss_Fx1: 0.00e+00 | loss_Fx2: 0.00e+00 | loss_Fx3: 1.76e+00 | loss_Fx4: 9.96e-01\n",
      "1000/2000 | loss_train: 5.18e-03 | loss_IC: 2.79e-03 | loss_Fx1: 0.00e+00 | loss_Fx2: 0.00e+00 | loss_Fx3: 1.57e-01 | loss_Fx4: 8.51e-02\n",
      "1500/2000 | loss_train: 5.69e-03 | loss_IC: 2.93e-03 | loss_Fx1: 0.00e+00 | loss_Fx2: 0.00e+00 | loss_Fx3: 1.65e-01 | loss_Fx4: 1.14e-01\n",
      "Feature scaling performed\n",
      "Feature scaling performed\n",
      "2000/2000\n",
      "*** logs not saved (as specified) ***\n",
      "Training finished!\n"
     ]
    }
   ],
   "source": [
    "##############################################################################\n",
    "# %% Start training the PINN\n",
    "##############################################################################\n",
    "\n",
    "# Create an instance of the PINN model\n",
    "pinn = PhysicsInformedNN(config, verbose=False)\n",
    "\n",
    "# # Train the model instance\n",
    "pinn.train() \n",
    "\n",
    "# Return logs\n",
    "log = pinn.callback.log"
   ]
  },
  {
   "cell_type": "markdown",
   "metadata": {
    "id": "6gdl6c0JS6xp"
   },
   "source": [
    "#### Plot solution"
   ]
  },
  {
   "cell_type": "code",
   "execution_count": 5,
   "metadata": {},
   "outputs": [
    {
     "data": {
      "image/png": "[encoded data removed]",
      "text/plain": [
       "<Figure size 396x118.8 with 2 Axes>"
      ]
     },
     "metadata": {
      "needs_background": "light"
     },
     "output_type": "display_data"
    }
   ],
   "source": [
    "IC_pred = []\n",
    "t_cont = 3\n",
    "\n",
    "#####################################################################################\n",
    "\n",
    "fig, axes = plt.subplots(1, 2, figsize=get_optimal_figsize(scale=1))\n",
    "axes = axes.flatten()\n",
    "\n",
    "for ax in axes:\n",
    "    ax.set_xlabel(r'$t$', labelpad=0)\n",
    "    ax.grid()\n",
    "\n",
    "Plot = Plotting(log, alpha=1)\n",
    "Plot.plotting_continuation(axes[0:],t_cont=t_cont)\n",
    "Plot.plotting_yt_sol(axes[0:])\n",
    "IC_pred.append(log['y_pred'][0])\n",
    "\n",
    "IC_pred_mean = np.mean(np.array(IC_pred),axis=0)\n",
    "IC_pred_mean[0:2]=IC_pred_mean[0:2]\n",
    "\n",
    "axes[0].set_title(r'$\\overline{{\\theta}}_1(t_0)={:.2f},\\ \\overline{{\\theta}}_2(t_0)={:.2f}$'.format(IC_pred_mean[0],IC_pred_mean[1]), fontsize=10)\n",
    "axes[1].set_title(r'$\\overline{{\\omega}}_1(t_0)={:.2f},\\ \\overline{{\\omega}}_2(t_0)={:.2f}$'.format(IC_pred_mean[2],IC_pred_mean[3]), fontsize=10)\n",
    "\n",
    "legend_without_duplicate_labels(axes[0], (-0.8, 0.5), idx = [-1, 0, 1, 2, 3, 4, 5], loc='center left');\n",
    "legend_without_duplicate_labels(axes[1], (1, 0.5), idx = [-1, 0, 1, 2, 3, 4, 5], loc='center left');\n",
    "\n"
   ]
  }
 ],
 "metadata": {
  "colab": {
   "collapsed_sections": [
    "sR98wjlehAt1"
   ],
   "name": "main_combined.ipynb",
   "provenance": []
  },
  "interpreter": {
   "hash": "679816e3715d1fc23b3f7ddefd297fe224581abbb4dab7cb94cec51d785998d3"
  },
  "kernelspec": {
   "display_name": "Python 3.7.11 ('PINN_v1')",
   "language": "python",
   "name": "python3"
  },
  "language_info": {
   "codemirror_mode": {
    "name": "ipython",
    "version": 3
   },
   "file_extension": ".py",
   "mimetype": "text/x-python",
   "name": "python",
   "nbconvert_exporter": "python",
   "pygments_lexer": "ipython3",
   "version": "3.7.11"
  }
 },
 "nbformat": 4,
 "nbformat_minor": 4
}
