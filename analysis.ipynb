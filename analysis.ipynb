{
 "cells": [
  {
   "cell_type": "markdown",
   "id": "f76c9ac6",
   "metadata": {},
   "source": [
    "# Notebook for the analysis of the solution trajectories"
   ]
  },
  {
   "cell_type": "markdown",
   "id": "ff91f3a5",
   "metadata": {},
   "source": [
    "### Load all libraries and modules"
   ]
  },
  {
   "cell_type": "code",
   "execution_count": null,
   "id": "3ff1ebb7",
   "metadata": {},
   "outputs": [],
   "source": [
    "%load_ext autoreload\n",
    "%autoreload 2\n",
    "\n",
    "import numpy as np\n",
    "import matplotlib.pyplot as plt\n",
    "import pandas as pd\n",
    "from pathlib import Path\n",
    "import json\n",
    "import sys\n",
    "\n",
    "from utils.exact import exact_RK, pendulum\n",
    "from utils.plotting import Plotting, get_optimal_figsize, legend_without_duplicate_labels, init_plot_style\n",
    "from utils.pathlib_helper import FileProcessing\n",
    "\n",
    "from utils.solution_analysis import residuals_from_y, bandpower, get_theta_start_stop\n",
    "from utils.exact import exact_RK\n",
    "from matplotlib.ticker import FuncFormatter\n",
    "\n",
    "init_plot_style(use_tex=True)"
   ]
  },
  {
   "cell_type": "markdown",
   "id": "4feeaef0",
   "metadata": {},
   "source": [
    "### Load the json files containing the PINN prediction\n",
    "\n",
    "#### How to use it:\n",
    "- use glob patterns to load all desired results easily (https://en.wikipedia.org/wiki/Glob_(programming))\n",
    "- '*': match any number of characters\n",
    "- '**': match all folders and files within that directory.\n",
    "\n",
    "- Matched results are listed with their corresponding index for accessing them\n",
    "  - Results with the same specifications but different seeds for weight initialization are grouped (indicated by '... | x Number | ... ')"
   ]
  },
  {
   "cell_type": "code",
   "execution_count": null,
   "id": "b437cd7f",
   "metadata": {},
   "outputs": [],
   "source": [
    "log_path = Path(Path.cwd(), '', 'logs',)  \n",
    "\n",
    "search_path = Path('simi*', '**',\n",
    "                #    'y0=[2.618*', '**',\n",
    "                   't_* 2]_*', '**',\n",
    "                   'lambda_*IC_1_*', '**'\n",
    "                  )\n",
    "\n",
    "FileProcessing_ = FileProcessing(log_path, search_path)\n",
    "FileProcessing_.preprocessing_data_loading()\n",
    "FileProcessing_.group_files(data_extension='*json')"
   ]
  },
  {
   "cell_type": "markdown",
   "id": "331a0872",
   "metadata": {},
   "source": [
    "Load the data"
   ]
  },
  {
   "cell_type": "code",
   "execution_count": null,
   "id": "bbf72f0c",
   "metadata": {},
   "outputs": [],
   "source": [
    "access_index = np.arange(16)\n",
    "data = FileProcessing_.load_grouped_files(index=access_index)   "
   ]
  },
  {
   "cell_type": "markdown",
   "id": "b00bd5b1",
   "metadata": {},
   "source": [
    "### Plotting the solution trajectories "
   ]
  },
  {
   "cell_type": "code",
   "execution_count": null,
   "id": "634b5e78",
   "metadata": {},
   "outputs": [],
   "source": [
    "fig, axes = plt.subplots(1, 2, figsize=get_optimal_figsize(scale=1, height_factor=.3))\n",
    "axes = axes.flatten()\n",
    "\n",
    "for log in data: \n",
    "    Plot = Plotting(log, use_tex=True, alpha=0.5)\n",
    "    Plot.plotting_yt_sol(axes[0:])\n",
    "legend_without_duplicate_labels(axes[0], (-0.7, 0.5), idx = [-1, 0, 1, 2, 3], loc='center left');\n",
    "legend_without_duplicate_labels(axes[1], (1, 0.5), idx = [-1, 0, 1, 2, 3], loc='center left');\n",
    "\n"
   ]
  },
  {
   "cell_type": "markdown",
   "id": "a1ee3826",
   "metadata": {},
   "source": [
    "### Compute the measures for the analysis of the solution trajectories\n",
    "1. The distribution of the solutions' frequency components, namely, the amount of low-frequency components\n",
    "   \n",
    "$$\n",
    "    P_{f_0} = \\frac{\\sum_{k>k_{f_0}} |X_k|^2}{\\sum_k |X_k|^2}\n",
    "$$\n",
    "where $X_k$ denotes the discrete Fourier transform (DFT) of a signal $x(t_n)$ (in our experiments, $\\theta_1,~\\theta_2$) and $k_{f_0}$ denotes the DFT index corresponding to the boundary frequency $f_0$. \n",
    "\n",
    "2. the average magnitude of the second order derivatives, which are approximated using the central finite difference method \n",
    "$$\n",
    "    \\overline{|\\theta_1''|}+\\overline{|\\theta_2''|} = \\sum\\limits_{i=1}^2 \\frac{1}{N}\\sum\\limits_{n=1}^N \\left| \\frac{\\delta_h^2 [ \\theta_i](n_h)  }{h^2} \\right| \n",
    "$$"
   ]
  },
  {
   "cell_type": "markdown",
   "id": "0c11e4fe",
   "metadata": {},
   "source": [
    "Create a meshgrid of initial angles"
   ]
  },
  {
   "cell_type": "code",
   "execution_count": null,
   "id": "c6f4efcc",
   "metadata": {},
   "outputs": [],
   "source": [
    "theta_1_vec = np.arange(130,165,.5)\n",
    "theta_2_vec = np.arange(130,165,.5)\n",
    "\n",
    "theta_1_rad = theta_1_vec*np.pi/180\n",
    "theta_2_rad = theta_1_vec*np.pi/180\n",
    "th1_rad_mesh, th2_rad_mesh = np.meshgrid(theta_1_rad, theta_2_rad, indexing='ij')\n",
    "\n",
    "y_grid = []\n",
    "for row_th1, row_th2 in zip(th1_rad_mesh, th2_rad_mesh):\n",
    "    y = [ [col_th1, col_th2, 0, 0]  for col_th1, col_th2 in zip(row_th1, row_th2)]\n",
    "    y_grid.append(y)\n"
   ]
  },
  {
   "cell_type": "markdown",
   "id": "c1a21fcb",
   "metadata": {},
   "source": [
    "Compute both analysis measures using the RK solution for given initial angles"
   ]
  },
  {
   "cell_type": "code",
   "execution_count": null,
   "id": "0ee0cd28",
   "metadata": {},
   "outputs": [],
   "source": [
    "# VARIABLES\n",
    "\n",
    "xmax = 2\n",
    "f0 = 0.5\n",
    "\n",
    "#-------------------------------------------------------------------------\n",
    "N = 1000 \n",
    "x = np.linspace(0, xmax, N)\n",
    "d = []\n",
    "\n",
    "for y0_row in y_grid:\n",
    "    for y0 in y0_row:\n",
    "        y_rk = exact_RK(x, y0)\n",
    "        (res_1_mean, res_2_mean, deriv_1_mean, deriv_2_mean) = residuals_from_y(y_rk,x,xmax)\n",
    "\n",
    "        T = xmax/len(y_rk[0,:])\n",
    "        pow_RK45, yf_RK45_list, f_RK45 = bandpower(y_rk[0:2,:], 1/T, f0=f0)\n",
    "\n",
    "        dict_temp = {'res_1_mean':res_1_mean,\n",
    "                     'res_2_mean':res_2_mean,\n",
    "                     'deriv_1_mean':deriv_1_mean,\n",
    "                     'deriv_2_mean':deriv_2_mean,\n",
    "                     'bandpower': pow_RK45/2,\n",
    "                     'xmax': xmax,\n",
    "                     'y0': y0\n",
    "        }\n",
    "\n",
    "        d.append(dict_temp)\n",
    "\n",
    "df = pd.DataFrame(d)\n",
    "df['deriv_mean'] = df['deriv_1_mean']+df['deriv_2_mean']\n",
    "df['th_1'] = df['y0'].apply(lambda x: np.round( x[0]*180/np.pi, 2) )\n",
    "df['th_2'] = df['y0'].apply(lambda x: np.round( x[1]*180/np.pi, 2) )\n",
    "\n"
   ]
  },
  {
   "cell_type": "markdown",
   "id": "3918df1d",
   "metadata": {},
   "source": [
    "### Plotting the analysis measures \n",
    "\n",
    "Select which measure to plot via the variable `values`:\n",
    "1. 'bandpower'\n",
    "2. 'deriv_mean'"
   ]
  },
  {
   "cell_type": "code",
   "execution_count": null,
   "id": "b2f5674e",
   "metadata": {},
   "outputs": [],
   "source": [
    "# VARIABLES\n",
    "\n",
    "values = 'bandpower'    # bandpower deriv_mean\n",
    "\n",
    "#-------------------------------------------------------------------------\n",
    "# Prepare plotting\n",
    "table = pd.pivot_table(df,values=values,index=['th_2'], columns=[\"th_1\"], aggfunc=lambda x:x)\n",
    "pinn_theta_start, pinn_th1_final, pinn_th2_final = get_theta_start_stop(data)\n",
    "lambda_IC = data[0]['lambda_IC']\n",
    "\n",
    "#-------------------------------------------------------------------------\n",
    "# Heatmap with arrows point from the true IC to the predicted IC of the PINN solution\n",
    "fig, axes = plt.subplots(1,1,figsize=get_optimal_figsize(scale=.35))\n",
    "axes.tick_params(axis=\"y\",direction=\"in\")\n",
    "axes.tick_params(axis=\"x\",direction=\"in\")\n",
    "\n",
    "# heatmap\n",
    "heatmap = axes.imshow(table, cmap =\"RdYlBu_r\", extent=[theta_1_vec.min(),theta_1_vec.max(),theta_2_vec.max(), theta_2_vec.min()])\n",
    "# colorbar settings\n",
    "cax = fig.add_axes([0.28, 1.1, .465,.07])\n",
    "fmt = lambda x, pos: '{:.2f}'.format(x)\n",
    "cbar_res = fig.colorbar(heatmap, format=FuncFormatter(fmt), cax=cax, pad=0.04, orientation=\"horizontal\")\n",
    "cbar_res.ax.tick_params(axis=\"y\",direction=\"in\", rotation=90)\n",
    "# axis labels\n",
    "axes.invert_yaxis()\n",
    "axes.tick_params(axis='y', labelrotation = 90)\n",
    "axes.set_xlabel(r'$\\theta_1{(t_0)}$ [deg]')\n",
    "axes.set_ylabel(r'$\\theta_2{(t_0)}$ [deg]')\n",
    "if values == 'bandpower':\n",
    "    cbar_res.ax.set_title('$P_{f_0}$', rotation=0, fontsize=10)\n",
    "else:\n",
    "    cbar_res.ax.set_title(r\"$\\overline{|\\theta_1''|} + \\overline{|\\theta_2''|}$\", rotation=0, fontsize=10)\n",
    "\n",
    "# scatter plot and arrows\n",
    "axes.scatter(pinn_theta_start,pinn_theta_start,c='k',marker='x', s=5, lw=.8)\n",
    "axes.scatter(pinn_th1_final,pinn_th2_final,c='k',marker='x', s=5, lw=.8)\n",
    "for x_start, y_start, x_final, y_final in zip(pinn_theta_start, pinn_theta_start, pinn_th1_final-pinn_theta_start, pinn_th2_final-pinn_theta_start):\n",
    "    axes.arrow(x_start, y_start, x_final, y_final,overhang=0.9, lw=0.5, length_includes_head=True, head_width=1.3, fc='k')\n",
    "\n",
    "#-------------------------------------------------------------------------\n",
    "# specify name for saving the plot \n",
    "plot_name = '{}_t_max_{}_lambda_{}'.format(values, xmax, lambda_IC)\n",
    "print(plot_name)\n",
    "# plt.savefig(Path('', 'plots', plot_name+'.pdf'), bbox_inches='tight', transparent=True)\n"
   ]
  }
 ],
 "metadata": {
  "colab": {
   "collapsed_sections": [],
   "name": "plotting_semi_inverse.ipynb",
   "version": ""
  },
  "kernelspec": {
   "display_name": "Python 3.7.11 ('PINN_v1')",
   "language": "python",
   "name": "python3"
  },
  "language_info": {
   "codemirror_mode": {
    "name": "ipython",
    "version": 3
   },
   "file_extension": ".py",
   "mimetype": "text/x-python",
   "name": "python",
   "nbconvert_exporter": "python",
   "pygments_lexer": "ipython3",
   "version": "3.7.11"
  },
  "vscode": {
   "interpreter": {
    "hash": "679816e3715d1fc23b3f7ddefd297fe224581abbb4dab7cb94cec51d785998d3"
   }
  }
 },
 "nbformat": 4,
 "nbformat_minor": 5
}
